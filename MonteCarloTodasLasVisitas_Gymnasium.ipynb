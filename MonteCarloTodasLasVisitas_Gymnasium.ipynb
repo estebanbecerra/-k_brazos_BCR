{
  "nbformat": 4,
  "nbformat_minor": 0,
  "metadata": {
    "colab": {
      "provenance": [],
      "include_colab_link": true
    },
    "kernelspec": {
      "name": "python3",
      "display_name": "Python 3"
    },
    "language_info": {
      "name": "python"
    }
  },
  "cells": [
    {
      "cell_type": "markdown",
      "metadata": {
        "id": "view-in-github",
        "colab_type": "text"
      },
      "source": [
        "<a href=\"https://colab.research.google.com/github/estebanbecerra/k_brazos_BCR/blob/main/MonteCarloTodasLasVisitas_Gymnasium.ipynb\" target=\"_parent\"><img src=\"https://colab.research.google.com/assets/colab-badge.svg\" alt=\"Open In Colab\"/></a>"
      ]
    },
    {
      "cell_type": "markdown",
      "source": [
        "# **Monte Carlo con Políticas epsilon-soft**\n",
        "\n",
        "_Esto es un ejemplo de uso de Gymnasium e informe sobre un experimento de aprendizaje por refuerzo_\n",
        "\n",
        "````\n",
        "Luis D. Hernández.\n",
        "<ldaniel at um.es>\n",
        "````\n",
        "\n",
        "Este notebook describe un experimento de aprendizaje por refuerzo utilizando el algoritmo de Monte Carlo con políticas epsilon-soft. El propósito de este análisis es entrenar un agente en un entorno de gym con el juego \"FrozenLake\", un entorno estándar en el que el agente debe aprender a moverse a través de un mapa en busca de una meta, evitando caer en agujeros. A continuación, se presenta una descripción de las diferentes partes del código y el proceso utilizado en el experimento."
      ],
      "metadata": {
        "id": "SipaVo-gz1ey"
      }
    },
    {
      "cell_type": "markdown",
      "source": [
        "## **1. Preparación del Entorno**"
      ],
      "metadata": {
        "id": "loCIjd-T0AVg"
      }
    },
    {
      "cell_type": "markdown",
      "source": [
        "La preparación consta de las siguientes partes:\n",
        "- **Instalación de Dependencias**: Se instalan las librerías necesarias para utilizar el entorno `gymnasium` para la simulación, con el objetivo de crear un ambiente controlado para que el agente pueda interactuar.\n",
        "- **Importación de Librerías**: Se importan las bibliotecas necesarias como `numpy` para el manejo de matrices y `matplotlib` para la visualización de los resultados.\n",
        "\n",
        "- **Importación del Entorno \"FrozenLake\"**:\n",
        "Se cargan dos versiones del entorno \"FrozenLake\": una de 4x4 y otra de 8x8. Ambas versiones no son resbaladizas, lo que facilita la comprensión de los resultados, dado que el entorno resbaladizo podría dificultar la comprensión inicial del aprendizaje.\n",
        "\n",
        "#### 3. **Funciones para Mostrar los Resultados**\n",
        "   - Se define una función para graficar la proporción de recompensas obtenidas en cada episodio del entrenamiento. Esto ayuda a visualizar el progreso del agente en términos de su desempeño durante el entrenamiento.\n",
        "\n"
      ],
      "metadata": {
        "id": "e2MTvyPWcU2q"
      }
    },
    {
      "cell_type": "markdown",
      "source": [
        "##### _________ **Código de la Instalación e Importación**\n",
        "----"
      ],
      "metadata": {
        "id": "0P7_98YrcsZw"
      }
    },
    {
      "cell_type": "code",
      "execution_count": 1,
      "metadata": {
        "id": "s-wSiHxNyuBH"
      },
      "outputs": [],
      "source": [
        "%%capture\n",
        "#@title Instalamos gym\n",
        "!pip install 'gym[box2d]==0.20.0'\n",
        "\n",
        "## Instalación de algunos paquetes.\n",
        "#!apt-get update\n",
        "## Para usar gymnasium[box2d]\n",
        "#!apt install swig\n",
        "#!pip install gymnasium[box2d]"
      ]
    },
    {
      "cell_type": "code",
      "source": [
        "#@title Importamos librerias\n",
        "import numpy as np\n",
        "import matplotlib.pyplot as plt\n",
        "from tqdm import tqdm\n",
        "import gymnasium as gym"
      ],
      "metadata": {
        "id": "o5s4pz9Hzk7r"
      },
      "execution_count": 2,
      "outputs": []
    },
    {
      "cell_type": "code",
      "source": [
        "#@title Importamos el lago helado\n",
        "name = 'FrozenLake-v1'\n",
        "env4 = gym.make(name, is_slippery=False, map_name=\"4x4\", render_mode=\"ansi\") # No resbaladizo para entender mejor los resultados.\n",
        "env8 = gym.make(name, is_slippery=False, map_name=\"8x8\", render_mode=\"ansi\") # No resbaladizo para entender mejor los resultados."
      ],
      "metadata": {
        "id": "0ogCwKft-Ki9"
      },
      "execution_count": 3,
      "outputs": []
    },
    {
      "cell_type": "markdown",
      "source": [
        "## **2. Diseño del Agente**\n",
        "\n",
        "El diseño del agente consta de dos partes, el algoritmo con el que aprende y las políticas (toma de decisiones) que realiza.\n",
        "\n",
        "- **Políticas del Agente**\n",
        "   - **Política epsilon-soft**: Se define una política donde todas las acciones tienen una probabilidad de ser elegida.\n",
        "   - **Política epsilon-greedy**: basada en la política epsilon-soft. De esta forma el agente tiene una pequeña probabilidad de explorar (tomar una acción aleatoria) y una mayor probabilidad de explotar (tomar la acción que considera mejor). Esto permite equilibrar la exploración y la explotación.\n",
        "   - **Política greedy**: Es la usada una vez que \"ha aprendido\".\n",
        "\n",
        "- **Algoritmo de Iteración de Valor**\n",
        "  - Se implementa el algoritmo de iteración de valor utilizando Monte Carlo.\n",
        "  - Se usa una versión \"on-policy\" de Monte Carlo con políticas epsilon greedy sobre una política epsilon-soft.\n",
        "  - Se basa en el criterio de todas las visitas.\n",
        "  - Otro aspecto es que la actualización de los retornos no se realiza en el orden inverso a las visitas."
      ],
      "metadata": {
        "id": "n1ySdi2wdXdm"
      }
    },
    {
      "cell_type": "markdown",
      "source": [
        "#### **Código de las políticas y algoritmo MC**\n",
        "----------------"
      ],
      "metadata": {
        "id": "9vDI1gmKfDPT"
      }
    },
    {
      "cell_type": "code",
      "source": [
        "# @title Políticas del agente\n",
        "\n",
        "# actions\n",
        "LEFT, DOWN, RIGHT, UP = 0,1,2,3\n",
        "\n",
        "# Política epsilon-soft. Se usa para el entrenamiento\n",
        "def random_epsilon_greedy_policy(Q, epsilon, state, nA):\n",
        "    pi_A = np.ones(nA, dtype=float) * epsilon / nA\n",
        "    best_action = np.argmax(Q[state])\n",
        "    pi_A[best_action] += (1.0 - epsilon)\n",
        "    return pi_A\n",
        "\n",
        "# Política epsilon-greedy a partir de una epsilon-soft\n",
        "def epsilon_greedy_policy(Q, epsilon, state, nA):\n",
        "    pi_A = random_epsilon_greedy_policy(Q, epsilon, state, nA)\n",
        "    return np.random.choice(np.arange(nA), p=pi_A)\n",
        "\n",
        "# Política Greedy a partir de los valones Q. Se usa para mostrar la solución.\n",
        "def pi_star_from_Q(env, Q):\n",
        "    done = False\n",
        "    pi_star = np.zeros([env.observation_space.n, env.action_space.n])\n",
        "    state, info = env.reset() # start in top-left, = 0\n",
        "    actions = \"\"\n",
        "    while not done:\n",
        "        action = np.argmax(Q[state, :])\n",
        "        actions += f\"{action}, \"\n",
        "        pi_star[state,action] = action\n",
        "        state, reward, terminated, truncated, info = env.step(action)\n",
        "        done = terminated or truncated\n",
        "    return pi_star, actions"
      ],
      "metadata": {
        "id": "lVEIYzaJ4p8N"
      },
      "execution_count": 4,
      "outputs": []
    },
    {
      "cell_type": "code",
      "source": [
        "#@title Algoritmo de Iteración de Valor versión MC con Políticas epsilon-soft\n",
        "\n",
        "def on_policy_all_visit(env, num_episodes=5000, epsilon=0.4, decay=False, discount_factor=1):\n",
        "    # Matriz de valores  Q\n",
        "    nA = env.action_space.n\n",
        "    Q = np.zeros([env.observation_space.n, nA])\n",
        "\n",
        "    # Número de visitas para la versión incremental\n",
        "    n_visits = np.zeros([env.observation_space.n, env.action_space.n])\n",
        "\n",
        "    # Para mostrar la evolución en el terminal y algún dato que mostrar\n",
        "    stats = 0.0\n",
        "    list_stats = []            # guardará la media de recompensas hasta el episodio t\n",
        "    episode_lengths = []       # <-- NUEVA lista para guardar longitudes de episodios\n",
        "\n",
        "    step_display = num_episodes / 10 if num_episodes >= 10 else 1\n",
        "\n",
        "    for t in tqdm(range(num_episodes)):\n",
        "        state, info = env.reset(seed=100)\n",
        "        done = False\n",
        "        episode = []\n",
        "        result_sum = 0.0  # Retorno\n",
        "        factor = 1\n",
        "\n",
        "        # Para medir longitud del episodio\n",
        "        steps_in_episode = 0\n",
        "\n",
        "        while not done:\n",
        "            if decay:\n",
        "                epsilon = min(1.0, 1000.0/(t+1))\n",
        "            action = epsilon_greedy_policy(Q, epsilon, state, nA)\n",
        "            new_state, reward, terminated, truncated, info = env.step(action)\n",
        "            done = terminated or truncated\n",
        "            episode.append((state, action))\n",
        "            result_sum += factor * reward\n",
        "            factor *= discount_factor\n",
        "            state = new_state\n",
        "\n",
        "            steps_in_episode += 1  # contamos un paso más\n",
        "\n",
        "        # Una vez finalizado el episodio, actualizamos Q con \"todas las visitas\"\n",
        "        for (s, a) in episode:\n",
        "            n_visits[s, a] += 1.0\n",
        "            alpha = 1.0 / n_visits[s, a]\n",
        "            Q[s, a] += alpha * (result_sum - Q[s, a])\n",
        "\n",
        "        # Guardamos datos sobre la evolución\n",
        "        stats += result_sum\n",
        "        promedio_recompensas = stats / (t + 1)\n",
        "        list_stats.append(promedio_recompensas)\n",
        "\n",
        "        # Guardamos la longitud del episodio\n",
        "        episode_lengths.append(steps_in_episode)\n",
        "\n",
        "        # Para mostrar la evolución en pantalla\n",
        "        if (t+1) % step_display == 0 and t != 0:\n",
        "            print(f\"Episodio {t+1}/{num_episodes} -> Éxito promedio: {promedio_recompensas:.3f}, epsilon: {epsilon:.3f}\")\n",
        "\n",
        "    return Q, list_stats, episode_lengths\n",
        "\n"
      ],
      "metadata": {
        "id": "RpUWKye-7YA1"
      },
      "execution_count": 5,
      "outputs": []
    },
    {
      "cell_type": "markdown",
      "source": [
        "## **3. Experimentación**\n",
        "\n",
        "   - En esta sección, el algoritmo de Monte Carlo con la política epsilon-soft se ejecuta tanto para el entorno de 4x4 como al de 8x8 de FrozenLake sin resbalar.\n",
        "   \n",
        "   - En ambos casos se realiza un entrenamiento con un número determinado de episodios (5000 en concreto)\n",
        "\n",
        "   - Además en el escenario 8x8 el  epsilon tiene decaimiento de acuerdo a la expresión: $\\epsilon = min(1.0, 1000.0/(t+1))$\n",
        "\n",
        "   - Durante el entrenamiento hay una visualización de la proporción de recompensas obtenidas a lo largo del entrenamiento.\n",
        "\n",
        "   - Junto a dicho volcado se muestra gráficamente la proporcion de recompensas obtendias.\n",
        "\n",
        "   - También se hace un volcado de los valores Q de cada estado, donde se muestra cómo el agente valora diferentes acciones en distintos estados del entorno, lo que puede interpretarse como su conocimiento sobre las mejores estrategias para alcanzar la meta sin caer en los agujeros.\n",
        "\n",
        "   - Además, se muestra la política óptima derivada de los valores Q. Esta política es la que el agente seguiría si tuviera que elegir siempre la acción que maximiza su recompensa esperada.\n",
        "\n",
        "   "
      ],
      "metadata": {
        "id": "0XxVyTFTfVkL"
      }
    },
    {
      "cell_type": "markdown",
      "source": [
        "### **3.1 Repressentaciones Gráficas**\n",
        "\n",
        "Para comprobar el aprendizaje se mostrará la función $f(t)=\\frac{\\sum_{i=1}^t R_i}{t}$ para $t=1,2,\\ldots, NumeroEpisodios$. La justificación es la siguiente. Como sabemmos que el retorno en el estados inicial 1 (pues no hay descuento) o 9, si se divide por el número de episodios ejecutados se calcular el porcentaje de recompensas positivas obtenidas. Dicho de otra forma, nos dirá el porcentaje de veces que el agente ha llegado al estado terminal.\n"
      ],
      "metadata": {
        "id": "cqdLUE8zQN2v"
      }
    },
    {
      "cell_type": "code",
      "source": [
        "# @title Funciones para mostrar los resultados\n",
        "\n",
        "def plot(list_stats):\n",
        "  # Creamos una lista de índices para el eje x\n",
        "  indices = list(range(len(list_stats)))\n",
        "\n",
        "  # Creamos el gráfico\n",
        "  plt.figure(figsize=(6, 3))\n",
        "  plt.plot(indices, list_stats)\n",
        "\n",
        "  # Añadimos título y etiquetas\n",
        "  plt.title('Proporción de recompensas')\n",
        "  plt.xlabel('Episodio')\n",
        "  plt.ylabel('Proporción')\n",
        "\n",
        "  # Mostramos el gráfico\n",
        "  plt.grid(True)\n",
        "  plt.show()\n",
        "\n",
        "# Define la función para mostrar el tamaño de los episodios\n",
        "# Pon aquí tu código."
      ],
      "metadata": {
        "id": "u42-YlgazukU"
      },
      "execution_count": 6,
      "outputs": []
    },
    {
      "cell_type": "markdown",
      "source": [
        "Gráfica que muestre la longitud de los episodios en cada estado"
      ],
      "metadata": {
        "id": "Fz2xcbqHfMNc"
      }
    },
    {
      "cell_type": "code",
      "source": [
        "def plot_episode_lengths(episode_lengths):\n",
        "    \"\"\"\n",
        "    Muestra la longitud de cada episodio a lo largo del entrenamiento.\n",
        "    \"\"\"\n",
        "    plt.figure(figsize=(6, 3))\n",
        "    plt.plot(episode_lengths, label=\"Longitud del episodio\")\n",
        "    plt.xlabel(\"Episodio\")\n",
        "    plt.ylabel(\"Longitud\")\n",
        "    plt.title(\"Evolución de la longitud de los episodios\")\n",
        "    plt.grid(True)\n",
        "    plt.legend()\n",
        "    plt.show()\n"
      ],
      "metadata": {
        "id": "lR8apo5jYEbA"
      },
      "execution_count": 7,
      "outputs": []
    },
    {
      "cell_type": "markdown",
      "source": [
        " Gráfica que muestre el escenario"
      ],
      "metadata": {
        "id": "4kZp0_BBrNnT"
      }
    },
    {
      "cell_type": "code",
      "source": [
        "import matplotlib.pyplot as plt\n",
        "import numpy as np\n",
        "\n",
        "def plot_policy_on_grid(Q, grid_size=(4,4)):\n",
        "    \"\"\"\n",
        "    Plotea la política óptima en una cuadrícula.\n",
        "\n",
        "    Parámetros:\n",
        "    - Q: matriz Q donde cada fila corresponde a un estado y cada columna a una acción.\n",
        "         Se asume que la acción óptima en cada estado es la de mayor valor.\n",
        "    - grid_size: tupla (filas, columnas) que indica el tamaño de la cuadrícula.\n",
        "    \"\"\"\n",
        "    # Mapear cada acción a una flecha: 0: izquierda, 1: abajo, 2: derecha, 3: arriba\n",
        "    arrow_dict = {0: r'$\\leftarrow$',\n",
        "                  1: r'$\\downarrow$',\n",
        "                  2: r'$\\rightarrow$',\n",
        "                  3: r'$\\uparrow$'}\n",
        "\n",
        "    n_states = Q.shape[0]\n",
        "    optimal_policy = [np.argmax(Q[s]) for s in range(n_states)]\n",
        "\n",
        "    rows, cols = grid_size\n",
        "    fig, ax = plt.subplots(figsize=(cols, rows))\n",
        "\n",
        "    # Dibujar líneas de la cuadrícula\n",
        "    for x in range(cols + 1):\n",
        "        ax.axvline(x, color='black')\n",
        "    for y in range(rows + 1):\n",
        "        ax.axhline(y, color='black')\n",
        "\n",
        "    # Colocar la flecha en cada celda\n",
        "    for state, action in enumerate(optimal_policy):\n",
        "        # Convertir el número de estado a coordenadas (fila, columna)\n",
        "        row = state // cols\n",
        "        col = state % cols\n",
        "        # Ajustar para que la fila 0 aparezca en la parte superior\n",
        "        ax.text(col + 0.5, rows - row - 0.5, arrow_dict.get(action, ''),\n",
        "                ha='center', va='center', fontsize=20)\n",
        "\n",
        "    ax.set_xlim(0, cols)\n",
        "    ax.set_ylim(0, rows)\n",
        "    ax.set_xticks(np.arange(0, cols + 1))\n",
        "    ax.set_yticks(np.arange(0, rows + 1))\n",
        "    ax.set_xticklabels([])\n",
        "    ax.set_yticklabels([])\n",
        "    plt.title(\"Política Óptima en FrozenLake\")\n",
        "    plt.show()\n",
        "\n",
        "# Ejemplo de uso:\n",
        "# Supongamos que 'Q' es la matriz de valores obtenida tras el entrenamiento en FrozenLake 4x4\n",
        "# plot_policy_on_grid(Q, grid_size=(4,4))\n"
      ],
      "metadata": {
        "id": "mtqe5vSfrJL5"
      },
      "execution_count": 8,
      "outputs": []
    },
    {
      "cell_type": "markdown",
      "source": [
        "### **3.2 Experimentación en el escenario 4x4**\n",
        "\n",
        "\n",
        "\n",
        "   - Se realizan 5000 epsisodios y se actualizan los valores Q (valor de acción) basándose en las recompensas obtenidas durante cada episodio completo (e.d. aplicamos Monte Carlo) Se apica una política $\\epsilon$ greedy sobre una política $\\epsilon$ soft con un valor $\\epsilon$ constante\n",
        "\n",
        "\n"
      ],
      "metadata": {
        "id": "JvnGJVGF_j2j"
      }
    },
    {
      "cell_type": "code",
      "source": [
        "# @title Aprendizaje\n",
        "Q, list_stats, episode_lengths = on_policy_all_visit(env4, num_episodes=50000, epsilon=0.4, discount_factor=1)"
      ],
      "metadata": {
        "colab": {
          "base_uri": "https://localhost:8080/"
        },
        "collapsed": true,
        "id": "j_Dronjr_mAN",
        "outputId": "1228f4bd-2be6-4f3c-c79b-612a8df087c6"
      },
      "execution_count": 9,
      "outputs": [
        {
          "output_type": "stream",
          "name": "stderr",
          "text": [
            " 10%|█         | 5145/50000 [00:10<00:52, 849.10it/s]"
          ]
        },
        {
          "output_type": "stream",
          "name": "stdout",
          "text": [
            "Episodio 5000/50000 -> Éxito promedio: 0.346, epsilon: 0.400\n"
          ]
        },
        {
          "output_type": "stream",
          "name": "stderr",
          "text": [
            " 20%|██        | 10182/50000 [00:15<00:38, 1027.86it/s]"
          ]
        },
        {
          "output_type": "stream",
          "name": "stdout",
          "text": [
            "Episodio 10000/50000 -> Éxito promedio: 0.441, epsilon: 0.400\n"
          ]
        },
        {
          "output_type": "stream",
          "name": "stderr",
          "text": [
            " 31%|███       | 15298/50000 [00:17<00:17, 1994.59it/s]"
          ]
        },
        {
          "output_type": "stream",
          "name": "stdout",
          "text": [
            "Episodio 15000/50000 -> Éxito promedio: 0.470, epsilon: 0.400\n"
          ]
        },
        {
          "output_type": "stream",
          "name": "stderr",
          "text": [
            " 41%|████      | 20284/50000 [00:20<00:15, 1899.84it/s]"
          ]
        },
        {
          "output_type": "stream",
          "name": "stdout",
          "text": [
            "Episodio 20000/50000 -> Éxito promedio: 0.488, epsilon: 0.400\n"
          ]
        },
        {
          "output_type": "stream",
          "name": "stderr",
          "text": [
            " 51%|█████     | 25271/50000 [00:23<00:12, 1955.53it/s]"
          ]
        },
        {
          "output_type": "stream",
          "name": "stdout",
          "text": [
            "Episodio 25000/50000 -> Éxito promedio: 0.499, epsilon: 0.400\n"
          ]
        },
        {
          "output_type": "stream",
          "name": "stderr",
          "text": [
            " 60%|██████    | 30109/50000 [00:25<00:11, 1718.73it/s]"
          ]
        },
        {
          "output_type": "stream",
          "name": "stdout",
          "text": [
            "Episodio 30000/50000 -> Éxito promedio: 0.506, epsilon: 0.400\n"
          ]
        },
        {
          "output_type": "stream",
          "name": "stderr",
          "text": [
            " 70%|███████   | 35206/50000 [00:31<00:14, 1030.60it/s]"
          ]
        },
        {
          "output_type": "stream",
          "name": "stdout",
          "text": [
            "Episodio 35000/50000 -> Éxito promedio: 0.510, epsilon: 0.400\n"
          ]
        },
        {
          "output_type": "stream",
          "name": "stderr",
          "text": [
            " 80%|████████  | 40144/50000 [00:35<00:08, 1154.72it/s]"
          ]
        },
        {
          "output_type": "stream",
          "name": "stdout",
          "text": [
            "Episodio 40000/50000 -> Éxito promedio: 0.514, epsilon: 0.400\n"
          ]
        },
        {
          "output_type": "stream",
          "name": "stderr",
          "text": [
            " 91%|█████████ | 45291/50000 [00:40<00:02, 1841.36it/s]"
          ]
        },
        {
          "output_type": "stream",
          "name": "stdout",
          "text": [
            "Episodio 45000/50000 -> Éxito promedio: 0.517, epsilon: 0.400\n"
          ]
        },
        {
          "output_type": "stream",
          "name": "stderr",
          "text": [
            "100%|██████████| 50000/50000 [00:43<00:00, 1143.87it/s]"
          ]
        },
        {
          "output_type": "stream",
          "name": "stdout",
          "text": [
            "Episodio 50000/50000 -> Éxito promedio: 0.519, epsilon: 0.400\n"
          ]
        },
        {
          "output_type": "stream",
          "name": "stderr",
          "text": [
            "\n"
          ]
        }
      ]
    },
    {
      "cell_type": "code",
      "source": [
        "#@title Proporción de aciertos por número de episodios\n",
        "\n",
        "plot(list_stats)\n",
        "print(f\"Máxima proporcion: {list_stats[-1]}\")"
      ],
      "metadata": {
        "colab": {
          "base_uri": "https://localhost:8080/",
          "height": 352
        },
        "id": "KLhdk1SFtn8S",
        "outputId": "5fa57eef-e825-41a6-cf44-185c632ab72b"
      },
      "execution_count": 10,
      "outputs": [
        {
          "output_type": "display_data",
          "data": {
            "text/plain": [
              "<Figure size 600x300 with 1 Axes>"
            ],
            "image/png": "[encoded data removed]"
          },
          "metadata": {}
        },
        {
          "output_type": "stream",
          "name": "stdout",
          "text": [
            "Máxima proporcion: 0.5195\n"
          ]
        }
      ]
    },
    {
      "cell_type": "code",
      "source": [
        "# Gráfica de la longitud de los episodios\n",
        "plot_episode_lengths(episode_lengths)"
      ],
      "metadata": {
        "colab": {
          "base_uri": "https://localhost:8080/",
          "height": 334
        },
        "id": "nEF6vIyRYOCF",
        "outputId": "49def6c7-a28a-4c5e-cf45-7a673925ffee"
      },
      "execution_count": 11,
      "outputs": [
        {
          "output_type": "display_data",
          "data": {
            "text/plain": [
              "<Figure size 600x300 with 1 Axes>"
            ],
            "image/png": "[encoded data removed]"
          },
          "metadata": {}
        }
      ]
    },
    {
      "cell_type": "markdown",
      "source": [
        "####.\n",
        "Mostramos los valores Q para cada estado. Cada estado tienen 4 valores, que se corresponden con las 4 acciones que se pueden en cada estado."
      ],
      "metadata": {
        "id": "zoP1jHL_StI9"
      }
    },
    {
      "cell_type": "code",
      "source": [
        "# @title Tabla de valores Q\n",
        "LEFT, DOWN, RIGHT, UP = 0,1,2,3\n",
        "print(\"Valores Q para cada estado:\\n\", Q)\n"
      ],
      "metadata": {
        "colab": {
          "base_uri": "https://localhost:8080/"
        },
        "id": "psRtMmxyFkFq",
        "outputId": "0cadca3d-4c03-457c-858a-598cf9c5881a"
      },
      "execution_count": 12,
      "outputs": [
        {
          "output_type": "stream",
          "name": "stdout",
          "text": [
            "Valores Q para cada estado:\n",
            " [[0.35220505 0.5054074  0.49242983 0.52426778]\n",
            " [0.35945043 0.         0.60053152 0.40210356]\n",
            " [0.49489647 0.62826926 0.52895753 0.59783282]\n",
            " [0.60805736 0.         0.43096234 0.48666667]\n",
            " [0.21255061 0.60096115 0.         0.43318407]\n",
            " [0.         0.         0.         0.        ]\n",
            " [0.         0.8093855  0.         0.60318694]\n",
            " [0.         0.         0.         0.        ]\n",
            " [0.3375046  0.         0.71199035 0.47834158]\n",
            " [0.5723806  0.8258108  0.79612801 0.        ]\n",
            " [0.72670549 0.95878773 0.         0.62156357]\n",
            " [0.         0.         0.         0.        ]\n",
            " [0.         0.         0.         0.        ]\n",
            " [0.         0.82754127 0.9556386  0.71312143]\n",
            " [0.81323283 0.95631327 1.         0.79316993]\n",
            " [0.         0.         0.         0.        ]]\n"
          ]
        }
      ]
    },
    {
      "cell_type": "markdown",
      "source": [
        "- También se muestra la política óptima (greedy) obtenida a partir del aprendizaje anterior.\n",
        "\n",
        "- Cada estado tienen 4 valores, pero todos son 0 menos 1. Es decir, en cada estado se aplica de manera determinística una única acción.\n",
        "\n",
        "*TODO:* Mostrar de forma gráfica el escenario."
      ],
      "metadata": {
        "id": "AsJ-AgwcTgdO"
      }
    },
    {
      "cell_type": "code",
      "source": [
        "plot_policy_on_grid(Q, grid_size=(4,4))"
      ],
      "metadata": {
        "id": "8rxctOC5rXwT",
        "outputId": "732c98ef-b3ce-45aa-ff73-4a93f3348c23",
        "colab": {
          "base_uri": "https://localhost:8080/",
          "height": 375
        }
      },
      "execution_count": 13,
      "outputs": [
        {
          "output_type": "display_data",
          "data": {
            "text/plain": [
              "<Figure size 400x400 with 1 Axes>"
            ],
            "image/png": "[encoded data removed]"
          },
          "metadata": {}
        }
      ]
    },
    {
      "cell_type": "code",
      "source": [
        "# @title Política final\n",
        "LEFT, DOWN, RIGHT, UP = 0,1,2,3\n",
        "pi, actions = pi_star_from_Q(env4, Q)\n",
        "\n",
        "print(\"Política óptima obtenida\\n\", pi, f\"\\n Acciones {actions} \\n Para el siguiente grid\\n\", env4.render())\n",
        "print()"
      ],
      "metadata": {
        "colab": {
          "base_uri": "https://localhost:8080/"
        },
        "collapsed": true,
        "id": "dA0-q-woGYL2",
        "outputId": "15c21f61-b7ff-4a1f-bbc9-f99c2ce8c353"
      },
      "execution_count": 14,
      "outputs": [
        {
          "output_type": "stream",
          "name": "stdout",
          "text": [
            "Política óptima obtenida\n",
            " [[0. 0. 0. 3.]\n",
            " [0. 0. 0. 0.]\n",
            " [0. 0. 0. 0.]\n",
            " [0. 0. 0. 0.]\n",
            " [0. 0. 0. 0.]\n",
            " [0. 0. 0. 0.]\n",
            " [0. 0. 0. 0.]\n",
            " [0. 0. 0. 0.]\n",
            " [0. 0. 0. 0.]\n",
            " [0. 0. 0. 0.]\n",
            " [0. 0. 0. 0.]\n",
            " [0. 0. 0. 0.]\n",
            " [0. 0. 0. 0.]\n",
            " [0. 0. 0. 0.]\n",
            " [0. 0. 0. 0.]\n",
            " [0. 0. 0. 0.]] \n",
            " Acciones 3, 3, 3, 3, 3, 3, 3, 3, 3, 3, 3, 3, 3, 3, 3, 3, 3, 3, 3, 3, 3, 3, 3, 3, 3, 3, 3, 3, 3, 3, 3, 3, 3, 3, 3, 3, 3, 3, 3, 3, 3, 3, 3, 3, 3, 3, 3, 3, 3, 3, 3, 3, 3, 3, 3, 3, 3, 3, 3, 3, 3, 3, 3, 3, 3, 3, 3, 3, 3, 3, 3, 3, 3, 3, 3, 3, 3, 3, 3, 3, 3, 3, 3, 3, 3, 3, 3, 3, 3, 3, 3, 3, 3, 3, 3, 3, 3, 3, 3, 3,  \n",
            " Para el siguiente grid\n",
            "   (Up)\n",
            "\u001b[41mS\u001b[0mFFF\n",
            "FHFH\n",
            "FFFH\n",
            "HFFG\n",
            "\n",
            "\n"
          ]
        }
      ]
    },
    {
      "cell_type": "markdown",
      "source": [
        "### **3.3 Experimentación en el escenario 8x8**\n",
        "\n",
        "  - Se realizan 5000 epsisodios y se actualizan los valores Q (valor de acción) basándose en las recompensas obtenidas durante cada episodio completo (e.d. aplicamos Monte Carlo) Se apica una política $\\epsilon$ greedy sobre una política $\\epsilon$ soft con un valor $\\epsilon$ decreciente\n",
        "\n"
      ],
      "metadata": {
        "id": "3tUyGCBuS41T"
      }
    },
    {
      "cell_type": "code",
      "source": [
        "# @title Aprendizaje\n",
        "Q, list_stats, episode_lengths = on_policy_all_visit(env8, num_episodes=50000, epsilon=0.4, decay=True, discount_factor=1)"
      ],
      "metadata": {
        "colab": {
          "base_uri": "https://localhost:8080/"
        },
        "collapsed": true,
        "outputId": "ca3d4896-93b9-4134-ec03-eceb8598e5e3",
        "id": "ttDsqDX16sSj"
      },
      "execution_count": 15,
      "outputs": [
        {
          "output_type": "stream",
          "name": "stderr",
          "text": [
            " 10%|█         | 5095/50000 [00:07<00:53, 842.96it/s]"
          ]
        },
        {
          "output_type": "stream",
          "name": "stdout",
          "text": [
            "Episodio 5000/50000 -> Éxito promedio: 0.450, epsilon: 0.200\n"
          ]
        },
        {
          "output_type": "stream",
          "name": "stderr",
          "text": [
            " 20%|██        | 10066/50000 [00:14<01:08, 586.15it/s]"
          ]
        },
        {
          "output_type": "stream",
          "name": "stdout",
          "text": [
            "Episodio 10000/50000 -> Éxito promedio: 0.662, epsilon: 0.100\n"
          ]
        },
        {
          "output_type": "stream",
          "name": "stderr",
          "text": [
            " 30%|███       | 15071/50000 [00:22<01:01, 564.04it/s]"
          ]
        },
        {
          "output_type": "stream",
          "name": "stdout",
          "text": [
            "Episodio 15000/50000 -> Éxito promedio: 0.742, epsilon: 0.067\n"
          ]
        },
        {
          "output_type": "stream",
          "name": "stderr",
          "text": [
            " 40%|████      | 20188/50000 [00:26<00:20, 1431.74it/s]"
          ]
        },
        {
          "output_type": "stream",
          "name": "stdout",
          "text": [
            "Episodio 20000/50000 -> Éxito promedio: 0.795, epsilon: 0.050\n"
          ]
        },
        {
          "output_type": "stream",
          "name": "stderr",
          "text": [
            " 50%|█████     | 25200/50000 [00:30<00:17, 1381.95it/s]"
          ]
        },
        {
          "output_type": "stream",
          "name": "stdout",
          "text": [
            "Episodio 25000/50000 -> Éxito promedio: 0.830, epsilon: 0.040\n"
          ]
        },
        {
          "output_type": "stream",
          "name": "stderr",
          "text": [
            " 60%|██████    | 30187/50000 [00:34<00:14, 1387.17it/s]"
          ]
        },
        {
          "output_type": "stream",
          "name": "stdout",
          "text": [
            "Episodio 30000/50000 -> Éxito promedio: 0.854, epsilon: 0.033\n"
          ]
        },
        {
          "output_type": "stream",
          "name": "stderr",
          "text": [
            " 70%|███████   | 35174/50000 [00:38<00:10, 1436.78it/s]"
          ]
        },
        {
          "output_type": "stream",
          "name": "stdout",
          "text": [
            "Episodio 35000/50000 -> Éxito promedio: 0.871, epsilon: 0.029\n"
          ]
        },
        {
          "output_type": "stream",
          "name": "stderr",
          "text": [
            " 81%|████████  | 40260/50000 [00:41<00:07, 1362.45it/s]"
          ]
        },
        {
          "output_type": "stream",
          "name": "stdout",
          "text": [
            "Episodio 40000/50000 -> Éxito promedio: 0.885, epsilon: 0.025\n"
          ]
        },
        {
          "output_type": "stream",
          "name": "stderr",
          "text": [
            " 90%|█████████ | 45239/50000 [00:45<00:03, 1441.00it/s]"
          ]
        },
        {
          "output_type": "stream",
          "name": "stdout",
          "text": [
            "Episodio 45000/50000 -> Éxito promedio: 0.896, epsilon: 0.022\n"
          ]
        },
        {
          "output_type": "stream",
          "name": "stderr",
          "text": [
            "100%|██████████| 50000/50000 [00:49<00:00, 1016.72it/s]"
          ]
        },
        {
          "output_type": "stream",
          "name": "stdout",
          "text": [
            "Episodio 50000/50000 -> Éxito promedio: 0.905, epsilon: 0.020\n"
          ]
        },
        {
          "output_type": "stream",
          "name": "stderr",
          "text": [
            "\n"
          ]
        }
      ]
    },
    {
      "cell_type": "code",
      "source": [
        "#@title Proporción de aciertos por número de episodios\n",
        "\n",
        "plot(list_stats)\n",
        "print(f\"Máxima proporcion: {list_stats[-1]}\")"
      ],
      "metadata": {
        "colab": {
          "base_uri": "https://localhost:8080/",
          "height": 352
        },
        "id": "Z_tbLcAq6yWR",
        "outputId": "c14ae6d9-0a6a-4ab4-971e-46259bbf7fc6"
      },
      "execution_count": 16,
      "outputs": [
        {
          "output_type": "display_data",
          "data": {
            "text/plain": [
              "<Figure size 600x300 with 1 Axes>"
            ],
            "image/png": "[encoded data removed]"
          },
          "metadata": {}
        },
        {
          "output_type": "stream",
          "name": "stdout",
          "text": [
            "Máxima proporcion: 0.90466\n"
          ]
        }
      ]
    },
    {
      "cell_type": "code",
      "source": [
        "# Gráfica de la longitud de los episodios\n",
        "plot_episode_lengths(episode_lengths)"
      ],
      "metadata": {
        "colab": {
          "base_uri": "https://localhost:8080/",
          "height": 334
        },
        "id": "JoCTBLSnYxyn",
        "outputId": "91f71168-5eba-424e-ca7d-d9808051eccc"
      },
      "execution_count": 17,
      "outputs": [
        {
          "output_type": "display_data",
          "data": {
            "text/plain": [
              "<Figure size 600x300 with 1 Axes>"
            ],
            "image/png": "[encoded data removed]"
          },
          "metadata": {}
        }
      ]
    },
    {
      "cell_type": "markdown",
      "source": [
        "####.\n",
        "Mostramos los valores Q para cada estado. Cada estado tienen 4 valores, que se corresponden con las 4 acciones que se pueden en cada estado."
      ],
      "metadata": {
        "id": "dptS3Xv8v8H7"
      }
    },
    {
      "cell_type": "code",
      "source": [
        "# @title Tabla de valores Q\n",
        "LEFT, DOWN, RIGHT, UP = 0,1,2,3\n",
        "print(\"Valores Q para cada estado:\\n\", Q)"
      ],
      "metadata": {
        "colab": {
          "base_uri": "https://localhost:8080/"
        },
        "id": "scmn1mwlwBam",
        "outputId": "6fe910dc-a895-40f1-cc0e-c9e39ba7674f"
      },
      "execution_count": 18,
      "outputs": [
        {
          "output_type": "stream",
          "name": "stdout",
          "text": [
            "Valores Q para cada estado:\n",
            " [[0.3030303  0.8936966  0.2950759  0.31760155]\n",
            " [0.08445146 0.0942029  0.57324017 0.1038961 ]\n",
            " [0.47420868 0.46530612 0.91621426 0.4947121 ]\n",
            " [0.57017544 0.54166667 0.91294651 0.59741024]\n",
            " [0.76039464 0.79945877 0.94863114 0.81481711]\n",
            " [0.6255814  0.64887307 0.95003059 0.66056166]\n",
            " [0.69772999 0.94949022 0.71855542 0.6898263 ]\n",
            " [0.23243243 0.69584245 0.25698324 0.23762376]\n",
            " [0.39980916 0.39429929 0.9073356  0.38272158]\n",
            " [0.45081506 0.44080044 0.91471349 0.44833242]\n",
            " [0.51303155 0.47890154 0.48998665 0.92438317]\n",
            " [0.19230769 0.         0.69004262 0.20770878]\n",
            " [0.40763359 0.42765273 0.8143699  0.46899841]\n",
            " [0.51327434 0.47649919 0.8374963  0.55769231]\n",
            " [0.7104112  0.9360774  0.73161189 0.70715474]\n",
            " [0.32258065 0.79915209 0.30028329 0.34113712]\n",
            " [0.05769231 0.05939227 0.05866303 0.48969359]\n",
            " [0.13016845 0.11330049 0.10935024 0.62418726]\n",
            " [0.58988764 0.06868132 0.         0.07068063]\n",
            " [0.         0.         0.         0.        ]\n",
            " [0.         0.08910891 0.2        0.5978022 ]\n",
            " [0.25547445 0.         0.34666667 0.73956723]\n",
            " [0.7182266  0.94053567 0.7811284  0.75251509]\n",
            " [0.40501792 0.84398827 0.4982699  0.46402878]\n",
            " [0.01609658 0.01138952 0.01369863 0.1010101 ]\n",
            " [0.02612827 0.02724796 0.03448276 0.21647059]\n",
            " [0.1331058  0.01648352 0.02040816 0.01376147]\n",
            " [0.12765957 0.         0.         0.        ]\n",
            " [0.11940299 0.         0.         0.0212766 ]\n",
            " [0.         0.         0.         0.        ]\n",
            " [0.         0.78850575 0.95998228 0.79542857]\n",
            " [0.77756286 0.95713985 0.76916221 0.76755218]\n",
            " [0.         0.         0.00833333 0.03056769]\n",
            " [0.02234637 0.         0.         0.04977376]\n",
            " [0.03       0.         0.         0.        ]\n",
            " [0.         0.         0.         0.        ]\n",
            " [0.         0.         0.         0.        ]\n",
            " [0.         0.         0.58441558 0.        ]\n",
            " [0.39130435 0.         0.88045541 0.59459459]\n",
            " [0.7877551  0.95933079 0.85117227 0.81970443]\n",
            " [0.         0.         0.         0.        ]\n",
            " [0.         0.         0.         0.        ]\n",
            " [0.         0.         0.         0.        ]\n",
            " [0.         0.         0.         0.        ]\n",
            " [0.         0.         0.         0.        ]\n",
            " [0.         0.         0.         0.        ]\n",
            " [0.         0.         0.         0.        ]\n",
            " [0.         0.97992747 0.88338834 0.86567164]\n",
            " [0.         0.         0.         0.        ]\n",
            " [0.         0.         0.         0.        ]\n",
            " [0.         0.         0.         0.        ]\n",
            " [0.         0.         0.         0.        ]\n",
            " [0.         0.         0.         0.        ]\n",
            " [0.         0.         0.         0.        ]\n",
            " [0.         0.         0.         0.        ]\n",
            " [0.         1.         0.93984962 0.88693467]\n",
            " [0.         0.         0.         0.        ]\n",
            " [0.         0.         0.         0.        ]\n",
            " [0.         0.         0.         0.        ]\n",
            " [0.         0.         0.         0.        ]\n",
            " [0.         0.         0.         0.        ]\n",
            " [0.         0.         0.         0.        ]\n",
            " [0.         0.         0.         0.        ]\n",
            " [0.         0.         0.         0.        ]]\n"
          ]
        }
      ]
    },
    {
      "cell_type": "markdown",
      "source": [
        "- También se muestra la política óptima (greedy) obtenida a partir del aprendizaje anterior.\n",
        "\n",
        "- Cada estado tienen 4 valores, pero todos son 0 menos 1. Es decir, en cada estado se aplica de manera determinística una única acción.\n",
        "\n",
        "*TODO:* Mostrar de forma gráfica el escenario."
      ],
      "metadata": {
        "id": "oWQWD7UqwH2Y"
      }
    },
    {
      "cell_type": "code",
      "source": [
        "plot_policy_on_grid(Q, grid_size=(8,8))"
      ],
      "metadata": {
        "id": "ih_nczqpraMK",
        "outputId": "69839d02-a4d5-49ee-e356-73b00da758ba",
        "colab": {
          "base_uri": "https://localhost:8080/",
          "height": 683
        }
      },
      "execution_count": 19,
      "outputs": [
        {
          "output_type": "display_data",
          "data": {
            "text/plain": [
              "<Figure size 800x800 with 1 Axes>"
            ],
            "image/png": "[encoded data removed]"
          },
          "metadata": {}
        }
      ]
    },
    {
      "cell_type": "code",
      "source": [
        "# @title Política final\n",
        "LEFT, DOWN, RIGHT, UP = 0,1,2,3\n",
        "pi, actions = pi_star_from_Q(env8, Q)\n",
        "\n",
        "print(\"Política óptima obtenida\\n\", pi, f\"\\n Acciones {actions} \\n Para el siguiente grid\\n\", env8.render())\n",
        "print()"
      ],
      "metadata": {
        "colab": {
          "base_uri": "https://localhost:8080/"
        },
        "id": "1n6i3oMzwSG3",
        "outputId": "9ef41093-51de-4021-f618-717027db717b"
      },
      "execution_count": 20,
      "outputs": [
        {
          "output_type": "stream",
          "name": "stdout",
          "text": [
            "Política óptima obtenida\n",
            " [[0. 1. 0. 0.]\n",
            " [0. 0. 0. 0.]\n",
            " [0. 0. 2. 0.]\n",
            " [0. 0. 2. 0.]\n",
            " [0. 0. 2. 0.]\n",
            " [0. 0. 2. 0.]\n",
            " [0. 1. 0. 0.]\n",
            " [0. 0. 0. 0.]\n",
            " [0. 0. 2. 0.]\n",
            " [0. 0. 2. 0.]\n",
            " [0. 0. 0. 3.]\n",
            " [0. 0. 0. 0.]\n",
            " [0. 0. 0. 0.]\n",
            " [0. 0. 0. 0.]\n",
            " [0. 1. 0. 0.]\n",
            " [0. 0. 0. 0.]\n",
            " [0. 0. 0. 0.]\n",
            " [0. 0. 0. 0.]\n",
            " [0. 0. 0. 0.]\n",
            " [0. 0. 0. 0.]\n",
            " [0. 0. 0. 0.]\n",
            " [0. 0. 0. 0.]\n",
            " [0. 1. 0. 0.]\n",
            " [0. 0. 0. 0.]\n",
            " [0. 0. 0. 0.]\n",
            " [0. 0. 0. 0.]\n",
            " [0. 0. 0. 0.]\n",
            " [0. 0. 0. 0.]\n",
            " [0. 0. 0. 0.]\n",
            " [0. 0. 0. 0.]\n",
            " [0. 0. 2. 0.]\n",
            " [0. 1. 0. 0.]\n",
            " [0. 0. 0. 0.]\n",
            " [0. 0. 0. 0.]\n",
            " [0. 0. 0. 0.]\n",
            " [0. 0. 0. 0.]\n",
            " [0. 0. 0. 0.]\n",
            " [0. 0. 0. 0.]\n",
            " [0. 0. 0. 0.]\n",
            " [0. 1. 0. 0.]\n",
            " [0. 0. 0. 0.]\n",
            " [0. 0. 0. 0.]\n",
            " [0. 0. 0. 0.]\n",
            " [0. 0. 0. 0.]\n",
            " [0. 0. 0. 0.]\n",
            " [0. 0. 0. 0.]\n",
            " [0. 0. 0. 0.]\n",
            " [0. 1. 0. 0.]\n",
            " [0. 0. 0. 0.]\n",
            " [0. 0. 0. 0.]\n",
            " [0. 0. 0. 0.]\n",
            " [0. 0. 0. 0.]\n",
            " [0. 0. 0. 0.]\n",
            " [0. 0. 0. 0.]\n",
            " [0. 0. 0. 0.]\n",
            " [0. 1. 0. 0.]\n",
            " [0. 0. 0. 0.]\n",
            " [0. 0. 0. 0.]\n",
            " [0. 0. 0. 0.]\n",
            " [0. 0. 0. 0.]\n",
            " [0. 0. 0. 0.]\n",
            " [0. 0. 0. 0.]\n",
            " [0. 0. 0. 0.]\n",
            " [0. 0. 0. 0.]] \n",
            " Acciones 1, 2, 2, 3, 2, 2, 2, 2, 1, 1, 1, 2, 1, 1, 1, 1,  \n",
            " Para el siguiente grid\n",
            "   (Down)\n",
            "SFFFFFFF\n",
            "FFFFFFFF\n",
            "FFFHFFFF\n",
            "FFFFFHFF\n",
            "FFFHFFFF\n",
            "FHHFFFHF\n",
            "FHFFHFHF\n",
            "FFFHFFF\u001b[41mG\u001b[0m\n",
            "\n",
            "\n"
          ]
        }
      ]
    },
    {
      "cell_type": "markdown",
      "source": [
        "## **4. Análisis y Estudios Futuros**\n",
        "\n",
        "### **4.1 Análisis de Resultados**\n",
        "\n",
        "- En los dos entornos (4x4 y 8x8), el agente comienza con un conocimiento muy limitado, pero gradualmente mejora su desempeño a medida que avanza en los episodios. Este comportamiento se puede observar en el gráfico de la proporción de recompensas, que aumenta con el tiempo.\n",
        "- En el entorno 4x4, la máxima proporción de éxito alcanzada fue 0.522, mientras que en el entorno 8x8, la máxima alcanzada fue 0.914. Esto refleja que el agente aprendió a optimizar su estrategia en un entorno más complejo.\n",
        "- La política óptima obtenida muestra las acciones recomendadas por el agente en cada estado del entorno. En el entorno 8x8, la política es más compleja debido a la mayor cantidad de estados y la dificultad del entorno.\n",
        "\n",
        "### **4.2 Propuestas para Estudios Futuros**\n",
        "\n",
        "1. **Evaluar con Otros Entornos**: Sería interesante aplicar este algoritmo a otros entornos más complejos de `gym`, como \"Taxi-v3\" o \"MountainCar\", para analizar cómo se comporta el agente en situaciones con dinámicas más complicadas.\n",
        "   \n",
        "2. **Optimización del Decaimiento de Epsilon**: Aunque se utilizó un decaimiento de epsilon en el segundo experimento, se podría investigar la efectividad de diferentes tasas de decaimiento o incluso explorar algoritmos como `Q-learning` para comparar su desempeño. Graficamente se trataría de mostrar la curva de la tasa de aciertos para distintas funciones de decaimientos\n",
        "\n",
        "3. **Análisis del Impacto de los descuentos en las Recompensas**: El estudio se ha hecho para $\\gamma = 1$; pero no se ha probado qué pasa cuando  $0 \\leq \\gamma < 1$. Se trataría de estudiar la curva para distintos valores de $\\gamma$\n",
        "\n",
        "4. **Nuevas gráficas**: Aquí solo se ha usado la proporción de aciertos, pero sería interesante qué relación entre dicha tasa y las tamaños de los episodios.\n",
        "\n",
        "4. **Ampliación del Algoritmo**: Explorar otros enfoques de Monte Carlo o incluso combinar Monte Carlo con otros algoritmos de aprendizaje por refuerzo, como el Deep Q-Network (DQN), podría mejorar aún más los resultados en entornos más complejos.\n"
      ],
      "metadata": {
        "id": "FG0Z813yhKz7"
      }
    },
    {
      "cell_type": "markdown",
      "source": [
        "#¿Por qué la longitud del episodio también es un buen indicador de aprendizaje?\n",
        "En FrozenLake (y en muchos otros entornos), un episodio termina cuando:\n",
        "\n",
        "El agente alcanza el objetivo (recibe la recompensa positiva).\n",
        "El agente cae en un agujero (fallo y recompensa 0).\n",
        "Se acaba el número máximo de pasos permitido (si el entorno lo impone).\n",
        "Cuando el agente aprende una buena política:\n",
        "\n",
        "Encuentra la meta más rápidamente, por lo que el episodio se hace más corto y obtiene la recompensa deseada.\n",
        "Tiende a evitar perder tiempo en movimientos innecesarios o caer en agujeros de manera repetida.\n",
        "Por ello, ver que la longitud del episodio disminuye (mientras la proporción de aciertos aumenta) suele indicar que el agente no solo está alcanzando la meta, sino que lo hace con menos pasos, lo cual es señal de un comportamiento más eficiente.\n",
        "\n",
        "En otras palabras, si el agente cada vez necesita menos acciones para lograr la recompensa final, quiere decir que está aprendiendo a navegar el entorno de manera óptima o cuasi-óptima. Por eso, el número de pasos en cada episodio se considera un buen indicador del grado de aprendizaje, complementario a la mera tasa de aciertos."
      ],
      "metadata": {
        "id": "ZWPQM2mZbPrn"
      }
    }
  ]
}